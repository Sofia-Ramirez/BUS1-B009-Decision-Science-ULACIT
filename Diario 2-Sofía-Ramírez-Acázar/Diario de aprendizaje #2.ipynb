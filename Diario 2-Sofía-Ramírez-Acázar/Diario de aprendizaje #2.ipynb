{
 "cells": [
  {
   "cell_type": "markdown",
   "metadata": {},
   "source": [
    "# Diario de aprendizaje 2"
   ]
  },
  {
   "cell_type": "markdown",
   "metadata": {},
   "source": [
    "### En un Script de Python resuelva los siguientes ejercicios:"
   ]
  },
  {
   "cell_type": "markdown",
   "metadata": {},
   "source": [
    "1. a) ¿Cuál es el resultado?\n",
    "\n",
    "1) r = π · 8^4\n",
    "\n",
    "2) r = |1342 − 1677 · (9/7) − 6|\n",
    "\n",
    "3) r = 9!\n",
    "\n",
    "4) r = log(7)\n",
    "\n",
    "5) r = e^0,555457"
   ]
  },
  {
   "cell_type": "code",
   "execution_count": 2,
   "metadata": {},
   "outputs": [
    {
     "data": {
      "text/plain": [
       "12867.963509103793"
      ]
     },
     "execution_count": 2,
     "metadata": {},
     "output_type": "execute_result"
    }
   ],
   "source": [
    "# 1) r = π · 8^4\n",
    "import numpy as np #importamos la librería numpy\n",
    "π = np.pi # definimos la variable π\n",
    "r = π * 8**4 #aplicamos la formula\n",
    "r #imprimir r"
   ]
  },
  {
   "cell_type": "code",
   "execution_count": 3,
   "metadata": {},
   "outputs": [
    {
     "data": {
      "text/plain": [
       "820.1428571428573"
      ]
     },
     "execution_count": 3,
     "metadata": {},
     "output_type": "execute_result"
    }
   ],
   "source": [
    "#2) r = |1342 − 1677 · (9/7) − 6|\n",
    "r = abs(1342 - 1677 * (9/7) - 6)\n",
    "r"
   ]
  },
  {
   "cell_type": "code",
   "execution_count": 4,
   "metadata": {},
   "outputs": [
    {
     "data": {
      "text/plain": [
       "362880"
      ]
     },
     "execution_count": 4,
     "metadata": {},
     "output_type": "execute_result"
    }
   ],
   "source": [
    "#3) r = 9!\n",
    "import math\n",
    "r = math.factorial(9)\n",
    "r"
   ]
  },
  {
   "cell_type": "code",
   "execution_count": 5,
   "metadata": {},
   "outputs": [
    {
     "data": {
      "text/plain": [
       "0.8450980400142567"
      ]
     },
     "execution_count": 5,
     "metadata": {},
     "output_type": "execute_result"
    }
   ],
   "source": [
    "#4) r = log(7)\n",
    "r = math.log(7,10)\n",
    "r"
   ]
  },
  {
   "cell_type": "code",
   "execution_count": 6,
   "metadata": {},
   "outputs": [
    {
     "data": {
      "text/plain": [
       "1.7427372337331462"
      ]
     },
     "execution_count": 6,
     "metadata": {},
     "output_type": "execute_result"
    }
   ],
   "source": [
    "#5) r = e^0,555457\n",
    "e = math.e\n",
    "r = e ** 0.555457\n",
    "r"
   ]
  },
  {
   "attachments": {
    "image-2.png": {
     "image/png": "[encoded data removed]"
    }
   },
   "cell_type": "markdown",
   "metadata": {},
   "source": [
    "![image-2.png](attachment:image-2.png)"
   ]
  },
  {
   "cell_type": "code",
   "execution_count": 7,
   "metadata": {},
   "outputs": [
    {
     "data": {
      "text/plain": [
       "3364.448798950513"
      ]
     },
     "execution_count": 7,
     "metadata": {},
     "output_type": "execute_result"
    }
   ],
   "source": [
    "x = 2 + π / 7 + 2 * 41 ** 2\n",
    "x"
   ]
  },
  {
   "cell_type": "markdown",
   "metadata": {},
   "source": [
    "2. Dado x = (2, 6, 27, 8, 9, 21, 9, 5, 562, π) y dado y = (8, 9, 31, 18, 5, 18, 9, 22, 0, 9)\n",
    "realice lo siguiente:\n",
    "\n",
    "Introduzca x y y como listas en Python.\n",
    "\n",
    "Calcule la media, la varianza y la desviación estándar de y.\n",
    "\n",
    "Calcule la correlación entre x y y.\n",
    "\n",
    "Escriba comandos en Python para obtener la lista x invertida.\n"
   ]
  },
  {
   "cell_type": "code",
   "execution_count": 15,
   "metadata": {},
   "outputs": [],
   "source": [
    "# creación de listas\n",
    "x = [2, -6, 27, -8, -9, -21, 9, 5, 562, π]\n",
    "\n",
    "y = [8, 9, -31, -18, 5, 18, 9, -22, 0, 9]"
   ]
  },
  {
   "cell_type": "code",
   "execution_count": 16,
   "metadata": {},
   "outputs": [
    {
     "name": "stdout",
     "output_type": "stream",
     "text": [
      "Media de y: -1.3\n",
      "Varianza de y: 240.81\n",
      "Desviación Estándar de y: 15.518054001710395\n"
     ]
    }
   ],
   "source": [
    "import statistics as stat\n",
    "#media de y\n",
    "\n",
    "print(\"Media de y:\", np.mean(y))\n",
    "\n",
    "#Varianza de y\n",
    "\n",
    "print(\"Varianza de y:\", np.var(y))\n",
    "\n",
    "# Desviación estándar de y\n",
    "      \n",
    "print(\"Desviación Estándar de y:\",np.std(y))"
   ]
  },
  {
   "cell_type": "code",
   "execution_count": 23,
   "metadata": {},
   "outputs": [
    {
     "name": "stdout",
     "output_type": "stream",
     "text": [
      "Correlación entre x y y:\n",
      " [[1.         0.17484829]\n",
      " [0.17484829 1.        ]]\n"
     ]
    }
   ],
   "source": [
    "#correlación entre x y y\n",
    "print(\"Correlación entre x y y:\\n\", np.corrcoef(x, y))"
   ]
  },
  {
   "cell_type": "code",
   "execution_count": 2,
   "metadata": {},
   "outputs": [
    {
     "data": {
      "text/plain": [
       "{'sexo': ['H', 'M', 'H', 'M', 'H', 'M'],\n",
       " 'peso': ['43', '35', '96', '56', '25', '48'],\n",
       " 'edad': ['15', '21', '19', '17', '25', '35'],\n",
       " 'nivel educativo': ['Lic', 'Bach', 'Bach', 'Bach', 'Dr', 'MSc']}"
      ]
     },
     "execution_count": 2,
     "metadata": {},
     "output_type": "execute_result"
    }
   ],
   "source": [
    "#Crear DataFrame\n",
    "import pandas as pd\n",
    "df = {'sexo': [\"H\",\"M\",\"H\",\"M\",\"H\",\"M\"],\n",
    "                'peso': [\"43\", \"35\",\"96\",\"56\",\"25\",\"48\"],\n",
    "                'edad': [\"15\",\"21\",\"19\",\"17\",\"25\",\"35\"],\n",
    "                'nivel educativo': [\"Lic\",\"Bach\",\"Bach\",\"Bach\",\"Dr\",\"MSc\"]}\n",
    "df"
   ]
  },
  {
   "cell_type": "code",
   "execution_count": 3,
   "metadata": {},
   "outputs": [
    {
     "data": {
      "text/html": [
       "<div>\n",
       "<style scoped>\n",
       "    .dataframe tbody tr th:only-of-type {\n",
       "        vertical-align: middle;\n",
       "    }\n",
       "\n",
       "    .dataframe tbody tr th {\n",
       "        vertical-align: top;\n",
       "    }\n",
       "\n",
       "    .dataframe thead th {\n",
       "        text-align: right;\n",
       "    }\n",
       "</style>\n",
       "<table border=\"1\" class=\"dataframe\">\n",
       "  <thead>\n",
       "    <tr style=\"text-align: right;\">\n",
       "      <th></th>\n",
       "      <th>sexo</th>\n",
       "      <th>peso</th>\n",
       "      <th>edad</th>\n",
       "      <th>nivel educativo</th>\n",
       "    </tr>\n",
       "  </thead>\n",
       "  <tbody>\n",
       "    <tr>\n",
       "      <th>0</th>\n",
       "      <td>H</td>\n",
       "      <td>43</td>\n",
       "      <td>15</td>\n",
       "      <td>Lic</td>\n",
       "    </tr>\n",
       "    <tr>\n",
       "      <th>1</th>\n",
       "      <td>M</td>\n",
       "      <td>35</td>\n",
       "      <td>21</td>\n",
       "      <td>Bach</td>\n",
       "    </tr>\n",
       "    <tr>\n",
       "      <th>2</th>\n",
       "      <td>H</td>\n",
       "      <td>96</td>\n",
       "      <td>19</td>\n",
       "      <td>Bach</td>\n",
       "    </tr>\n",
       "    <tr>\n",
       "      <th>3</th>\n",
       "      <td>M</td>\n",
       "      <td>56</td>\n",
       "      <td>17</td>\n",
       "      <td>Bach</td>\n",
       "    </tr>\n",
       "    <tr>\n",
       "      <th>4</th>\n",
       "      <td>H</td>\n",
       "      <td>25</td>\n",
       "      <td>25</td>\n",
       "      <td>Dr</td>\n",
       "    </tr>\n",
       "    <tr>\n",
       "      <th>5</th>\n",
       "      <td>M</td>\n",
       "      <td>48</td>\n",
       "      <td>35</td>\n",
       "      <td>MSc</td>\n",
       "    </tr>\n",
       "  </tbody>\n",
       "</table>\n",
       "</div>"
      ],
      "text/plain": [
       "  sexo peso edad nivel educativo\n",
       "0    H   43   15             Lic\n",
       "1    M   35   21            Bach\n",
       "2    H   96   19            Bach\n",
       "3    M   56   17            Bach\n",
       "4    H   25   25              Dr\n",
       "5    M   48   35             MSc"
      ]
     },
     "execution_count": 3,
     "metadata": {},
     "output_type": "execute_result"
    }
   ],
   "source": [
    "df = pd.DataFrame(df)\n",
    "df"
   ]
  },
  {
   "cell_type": "code",
   "execution_count": 19,
   "metadata": {},
   "outputs": [
    {
     "name": "stdout",
     "output_type": "stream",
     "text": [
      "[3.141592653589793, 562, 5, 9, -21, -9, -8, 27, -6, 2]\n"
     ]
    }
   ],
   "source": [
    "#x invertida\n",
    "x.reverse()\n",
    "print(x)"
   ]
  },
  {
   "cell_type": "markdown",
   "metadata": {},
   "source": [
    "4. Escriba instrucciones en Python para sumar los números enteros elevados al cubo del 1 al 100."
   ]
  },
  {
   "cell_type": "code",
   "execution_count": 4,
   "metadata": {},
   "outputs": [
    {
     "name": "stdout",
     "output_type": "stream",
     "text": [
      "25502500\n"
     ]
    }
   ],
   "source": [
    "def sum_cubo(n):\n",
    "    suma = 0\n",
    "    while n > 0:\n",
    "        suma += n ** 3\n",
    "        n -= 1\n",
    "    return suma\n",
    "\n",
    "print(sum_cubo(100))"
   ]
  },
  {
   "cell_type": "code",
   "execution_count": 5,
   "metadata": {},
   "outputs": [
    {
     "data": {
      "text/plain": [
       "25502500"
      ]
     },
     "execution_count": 5,
     "metadata": {},
     "output_type": "execute_result"
    }
   ],
   "source": [
    "def sum_cubo(n):\n",
    "    suma = 0\n",
    "    for i in range(n + 1):\n",
    "        c = i ** 3\n",
    "        suma = suma + c\n",
    "    return (suma)\n",
    "sum_cubo(100)"
   ]
  },
  {
   "cell_type": "code",
   "execution_count": null,
   "metadata": {},
   "outputs": [],
   "source": []
  }
 ],
 "metadata": {
  "kernelspec": {
   "display_name": "Python 3",
   "language": "python",
   "name": "python3"
  },
  "language_info": {
   "codemirror_mode": {
    "name": "ipython",
    "version": 3
   },
   "file_extension": ".py",
   "mimetype": "text/x-python",
   "name": "python",
   "nbconvert_exporter": "python",
   "pygments_lexer": "ipython3",
   "version": "3.8.5"
  }
 },
 "nbformat": 4,
 "nbformat_minor": 4
}
